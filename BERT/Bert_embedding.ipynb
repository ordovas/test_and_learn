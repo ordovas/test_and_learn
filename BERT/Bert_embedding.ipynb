{
  "cells": [
    {
      "cell_type": "markdown",
      "source": [
        "<a href=\"https://colab.research.google.com/github/ordovas/test_and_learn/blob/main/Bert_embedding.ipynb\" target=\"_parent\"><img src=\"https://colab.research.google.com/assets/colab-badge.svg\" alt=\"Open In Colab\"/></a>"
      ],
      "metadata": {
        "id": "view-in-github",
        "colab_type": "text"
      }
    },
    {
      "cell_type": "markdown",
      "source": [
        "# Stage 1: Importing dependencies"
      ],
      "metadata": {
        "id": "RMRkIFhuTM9M"
      }
    },
    {
      "cell_type": "code",
      "source": [
        "import numpy as np\n",
        "import math\n",
        "import re\n",
        "import pandas as pd\n",
        "from bs4 import BeautifulSoup\n",
        "import random\n",
        "\n",
        "#from google.colab import drive"
      ],
      "outputs": [],
      "execution_count": 1,
      "metadata": {
        "id": "76HfPILdC5lD",
        "gather": {
          "logged": 1632241696166
        }
      }
    },
    {
      "cell_type": "markdown",
      "source": [
        "!pip install bert-for-tf2\n",
        "!pip install sentencepiece"
      ],
      "metadata": {
        "nteract": {
          "transient": {
            "deleting": false
          }
        }
      }
    },
    {
      "cell_type": "code",
      "source": [
        "try:\n",
        "    %tensorflow_version 2.x\n",
        "except Exception:\n",
        "    pass\n",
        "import tensorflow as tf\n",
        "\n",
        "import tensorflow_hub as hub\n",
        "\n",
        "from tensorflow.keras import layers\n",
        "import bert"
      ],
      "outputs": [],
      "execution_count": 2,
      "metadata": {
        "id": "qMqTwu9jENrO",
        "gather": {
          "logged": 1632241700435
        }
      }
    },
    {
      "cell_type": "markdown",
      "source": [
        "# Stage 2: Data preprocessing"
      ],
      "metadata": {
        "id": "f0_xu0I3jFP9"
      }
    },
    {
      "cell_type": "markdown",
      "source": [
        "## Loading files"
      ],
      "metadata": {
        "id": "FifCe97pTVql"
      }
    },
    {
      "cell_type": "markdown",
      "source": [
        "We import files from our personal Google drive."
      ],
      "metadata": {
        "id": "6S0lOeu8TbnP"
      }
    },
    {
      "cell_type": "code",
      "source": [
        "#drive.mount(\"/content/drive\")"
      ],
      "outputs": [],
      "execution_count": 3,
      "metadata": {
        "id": "aRCxQui8Gqi_",
        "gather": {
          "logged": 1632241715395
        }
      }
    },
    {
      "cell_type": "code",
      "source": [
        "cols = [\"sentiment\", \"id\", \"date\", \"query\", \"user\", \"text\"]\n",
        "data = pd.read_csv(\n",
        "    \"training.csv\",\n",
        "    header=None,\n",
        "    names=cols,\n",
        "    engine=\"python\",\n",
        "    encoding=\"latin1\"\n",
        ")"
      ],
      "outputs": [],
      "execution_count": 4,
      "metadata": {
        "id": "f6iT5nxDHLRz",
        "gather": {
          "logged": 1632241730169
        }
      }
    },
    {
      "cell_type": "code",
      "source": [
        "data.drop([\"id\", \"date\", \"query\", \"user\"],\n",
        "          axis=1,\n",
        "          inplace=True)"
      ],
      "outputs": [],
      "execution_count": 5,
      "metadata": {
        "id": "kKnCVewUIBkc",
        "gather": {
          "logged": 1632241730455
        }
      }
    },
    {
      "cell_type": "code",
      "source": [
        "data.head(5)"
      ],
      "outputs": [
        {
          "output_type": "execute_result",
          "execution_count": 6,
          "data": {
            "text/plain": "   sentiment                                               text\n0          0  @switchfoot http://twitpic.com/2y1zl - Awww, t...\n1          0  is upset that he can't update his Facebook by ...\n2          0  @Kenichan I dived many times for the ball. Man...\n3          0    my whole body feels itchy and like its on fire \n4          0  @nationwideclass no, it's not behaving at all....",
            "text/html": "<div>\n<style scoped>\n    .dataframe tbody tr th:only-of-type {\n        vertical-align: middle;\n    }\n\n    .dataframe tbody tr th {\n        vertical-align: top;\n    }\n\n    .dataframe thead th {\n        text-align: right;\n    }\n</style>\n<table border=\"1\" class=\"dataframe\">\n  <thead>\n    <tr style=\"text-align: right;\">\n      <th></th>\n      <th>sentiment</th>\n      <th>text</th>\n    </tr>\n  </thead>\n  <tbody>\n    <tr>\n      <th>0</th>\n      <td>0</td>\n      <td>@switchfoot http://twitpic.com/2y1zl - Awww, t...</td>\n    </tr>\n    <tr>\n      <th>1</th>\n      <td>0</td>\n      <td>is upset that he can't update his Facebook by ...</td>\n    </tr>\n    <tr>\n      <th>2</th>\n      <td>0</td>\n      <td>@Kenichan I dived many times for the ball. Man...</td>\n    </tr>\n    <tr>\n      <th>3</th>\n      <td>0</td>\n      <td>my whole body feels itchy and like its on fire</td>\n    </tr>\n    <tr>\n      <th>4</th>\n      <td>0</td>\n      <td>@nationwideclass no, it's not behaving at all....</td>\n    </tr>\n  </tbody>\n</table>\n</div>"
          },
          "metadata": {}
        }
      ],
      "execution_count": 6,
      "metadata": {
        "id": "xWWUo_XVeqoG",
        "gather": {
          "logged": 1632241735924
        }
      }
    },
    {
      "cell_type": "markdown",
      "source": [
        "## Preprocessing"
      ],
      "metadata": {
        "id": "9Quzx5tnjUtl"
      }
    },
    {
      "cell_type": "markdown",
      "source": [
        "### Cleaning"
      ],
      "metadata": {
        "id": "M8hlexmRjXIS"
      }
    },
    {
      "cell_type": "code",
      "source": [
        "def clean_tweet(tweet):\n",
        "    tweet = BeautifulSoup(tweet, \"lxml\").get_text()\n",
        "    # Delete the @\n",
        "    tweet = re.sub(r\"@[A-Za-z0-9]+\", ' ', tweet)\n",
        "    # Delete URL links\n",
        "    tweet = re.sub(r\"https?://[A-Za-z0-9./]+\", ' ', tweet)\n",
        "    # Just keep letters and important punctuation\n",
        "    tweet = re.sub(r\"[^a-zA-Z.!?']\", ' ', tweet)\n",
        "    # Remove additional spaces\n",
        "    tweet = re.sub(r\" +\", ' ', tweet)\n",
        "    return tweet"
      ],
      "outputs": [],
      "execution_count": null,
      "metadata": {
        "id": "jBSUDL-UP-W_"
      }
    },
    {
      "cell_type": "code",
      "source": [
        "data_clean = [clean_tweet(tweet) for tweet in data.text]"
      ],
      "outputs": [],
      "execution_count": null,
      "metadata": {
        "id": "8jiMaQsLWiTS"
      }
    },
    {
      "cell_type": "code",
      "source": [
        "data_labels = data.sentiment.values\n",
        "data_labels[data_labels == 4] = 1"
      ],
      "outputs": [],
      "execution_count": null,
      "metadata": {
        "id": "EaqLE0fdWtni"
      }
    },
    {
      "cell_type": "markdown",
      "source": [
        "### Tokenization"
      ],
      "metadata": {
        "id": "6eh7sIquja5t"
      }
    },
    {
      "cell_type": "markdown",
      "source": [
        "We need to create a BERT layer to have access to meta data for the tokenizer (like vocab size)."
      ],
      "metadata": {
        "id": "pV73IkgKUCmV"
      }
    },
    {
      "cell_type": "code",
      "source": [
        "FullTokenizer = bert.bert_tokenization.FullTokenizer\n",
        "bert_layer = hub.KerasLayer(\"https://tfhub.dev/tensorflow/bert_en_uncased_L-12_H-768_A-12/1\",\n",
        "                            trainable=False)\n",
        "vocab_file = bert_layer.resolved_object.vocab_file.asset_path.numpy()\n",
        "do_lower_case = bert_layer.resolved_object.do_lower_case.numpy()\n",
        "tokenizer = FullTokenizer(vocab_file, do_lower_case)"
      ],
      "outputs": [],
      "execution_count": null,
      "metadata": {
        "id": "0wry-st-HMN0"
      }
    },
    {
      "cell_type": "markdown",
      "source": [
        "We only use the first sentence for BERT inputs so we add the CLS token at the beginning and the SEP token at the end of each sentence."
      ],
      "metadata": {
        "id": "uH9XmkM4WbUm"
      }
    },
    {
      "cell_type": "code",
      "source": [
        "def encode_sentence(sent):\n",
        "    return [\"[CLS]\"] + tokenizer.tokenize(sent) + [\"[SEP]\"]"
      ],
      "outputs": [],
      "execution_count": null,
      "metadata": {
        "id": "LggMv7k7Z3Ij"
      }
    },
    {
      "cell_type": "code",
      "source": [
        "data_inputs = [encode_sentence(sentence) for sentence in data_clean]"
      ],
      "outputs": [],
      "execution_count": null,
      "metadata": {
        "id": "EGfTo5uIa2is"
      }
    },
    {
      "cell_type": "markdown",
      "source": [
        "### Dataset creation"
      ],
      "metadata": {
        "id": "B-4oGSu5jxUi"
      }
    },
    {
      "cell_type": "markdown",
      "source": [
        "We need to create the 3 different inputs for each sentence."
      ],
      "metadata": {
        "id": "ZHXwqimXWwH3"
      }
    },
    {
      "cell_type": "code",
      "source": [
        "def get_ids(tokens):\n",
        "    return tokenizer.convert_tokens_to_ids(tokens)\n",
        "\n",
        "def get_mask(tokens):\n",
        "    return np.char.not_equal(tokens, \"[PAD]\").astype(int)\n",
        "\n",
        "def get_segments(tokens):\n",
        "    seg_ids = []\n",
        "    current_seg_id = 0\n",
        "    for tok in tokens:\n",
        "        seg_ids.append(current_seg_id)\n",
        "        if tok == \"[SEP]\":\n",
        "            current_seg_id = 1-current_seg_id # convert 1 into 0 and vice versa\n",
        "    return seg_ids"
      ],
      "outputs": [],
      "execution_count": null,
      "metadata": {
        "id": "-GEu2pEEW23q"
      }
    },
    {
      "cell_type": "markdown",
      "source": [
        "We will create padded batches (so we pad sentences for each batch inpedendently), this way we add the minimum of padding tokens possible. For that, we sort sentences by length, apply padded_batches and then shuffle."
      ],
      "metadata": {
        "id": "DaVPF9-rUTqZ"
      }
    },
    {
      "cell_type": "code",
      "source": [
        "data_with_len = [[sent, data_labels[i], len(sent)]\n",
        "                 for i, sent in enumerate(data_inputs)]\n",
        "random.shuffle(data_with_len)\n",
        "data_with_len.sort(key=lambda x: x[2])\n",
        "sorted_all = [([get_ids(sent_lab[0]),\n",
        "                get_mask(sent_lab[0]),\n",
        "                get_segments(sent_lab[0])],\n",
        "               sent_lab[1])\n",
        "              for sent_lab in data_with_len if sent_lab[2] > 7]"
      ],
      "outputs": [],
      "execution_count": null,
      "metadata": {
        "id": "HS_f6gWsLfLM"
      }
    },
    {
      "cell_type": "code",
      "source": [
        "# A list is a type of iterator so it can be used as generator for a dataset\n",
        "all_dataset = tf.data.Dataset.from_generator(lambda: sorted_all,\n",
        "                                             output_types=(tf.int32, tf.int32))"
      ],
      "outputs": [],
      "execution_count": null,
      "metadata": {
        "id": "ry0uJJg8lSQR"
      }
    },
    {
      "cell_type": "code",
      "source": [
        "next(iter(all_dataset))"
      ],
      "outputs": [],
      "execution_count": null,
      "metadata": {
        "id": "cF74g5hpYzaZ"
      }
    },
    {
      "cell_type": "code",
      "source": [
        "BATCH_SIZE = 32\n",
        "all_batched = all_dataset.padded_batch(BATCH_SIZE, padded_shapes=((None, ), ()))"
      ],
      "outputs": [],
      "execution_count": null,
      "metadata": {
        "id": "ZzHAhlfTlrcj"
      }
    },
    {
      "cell_type": "code",
      "source": [
        "next(iter(all_batched))"
      ],
      "outputs": [],
      "execution_count": null,
      "metadata": {
        "id": "s3ktdxCEm4Yh"
      }
    },
    {
      "cell_type": "code",
      "source": [
        "NB_BATCHES = math.ceil(len(sorted_all) / BATCH_SIZE)\n",
        "NB_BATCHES_TEST = NB_BATCHES // 10\n",
        "all_batched.shuffle(NB_BATCHES)\n",
        "test_dataset = all_batched.take(NB_BATCHES_TEST)\n",
        "train_dataset = all_batched.skip(NB_BATCHES_TEST)"
      ],
      "outputs": [],
      "execution_count": null,
      "metadata": {
        "id": "xrPqJeYpmfcv"
      }
    },
    {
      "cell_type": "markdown",
      "source": [
        "# Stage 3: Model building"
      ],
      "metadata": {
        "id": "VxONsFVHkFLU"
      }
    },
    {
      "cell_type": "code",
      "source": [
        "my_sent = [\"[CLS]\"] + tokenizer.tokenize(\"Roses are red.\") + [\"[SEP]\"]\n",
        "bert_layer([tf.expand_dims(tf.cast(get_ids(my_sent), tf.int32), 0),\n",
        "            tf.expand_dims(tf.cast(get_mask(my_sent), tf.int32), 0),\n",
        "            tf.expand_dims(tf.cast(get_segments(my_sent), tf.int32), 0)])"
      ],
      "outputs": [],
      "execution_count": null,
      "metadata": {
        "id": "Rutu68oHXdzy"
      }
    },
    {
      "cell_type": "code",
      "source": [
        "class DCNNBERTEmbedding(tf.keras.Model):\n",
        "    \n",
        "    def __init__(self,\n",
        "                 nb_filters=50,\n",
        "                 FFN_units=512,\n",
        "                 nb_classes=2,\n",
        "                 dropout_rate=0.1,\n",
        "                 name=\"dcnn\"):\n",
        "        super(DCNNBERTEmbedding, self).__init__(name=name)\n",
        "        \n",
        "        self.bert_layer = hub.KerasLayer(\n",
        "            \"https://tfhub.dev/tensorflow/bert_en_uncased_L-12_H-768_A-12/1\",\n",
        "            trainable=False)\n",
        "        \n",
        "        self.bigram = layers.Conv1D(filters=nb_filters,\n",
        "                                    kernel_size=2,\n",
        "                                    padding=\"valid\",\n",
        "                                    activation=\"relu\")\n",
        "        self.trigram = layers.Conv1D(filters=nb_filters,\n",
        "                                     kernel_size=3,\n",
        "                                     padding=\"valid\",\n",
        "                                     activation=\"relu\")\n",
        "        self.fourgram = layers.Conv1D(filters=nb_filters,\n",
        "                                      kernel_size=4,\n",
        "                                      padding=\"valid\",\n",
        "                                      activation=\"relu\")\n",
        "        self.pool = layers.GlobalMaxPool1D()\n",
        "        \n",
        "        self.dense_1 = layers.Dense(units=FFN_units, activation=\"relu\")\n",
        "        self.dropout = layers.Dropout(rate=dropout_rate)\n",
        "        if nb_classes == 2:\n",
        "            self.last_dense = layers.Dense(units=1,\n",
        "                                           activation=\"sigmoid\")\n",
        "        else:\n",
        "            self.last_dense = layers.Dense(units=nb_classes,\n",
        "                                           activation=\"softmax\")\n",
        "    \n",
        "    def embed_with_bert(self, all_tokens):\n",
        "        _, embs = self.bert_layer([all_tokens[:, 0, :],\n",
        "                                   all_tokens[:, 1, :],\n",
        "                                   all_tokens[:, 2, :]])\n",
        "        return embs\n",
        "    \n",
        "    def call(self, inputs, training):\n",
        "        x = self.embed_with_bert(inputs)\n",
        "\n",
        "        x_1 = self.bigram(x) # (batch_size, nb_filters, seq_len-1)\n",
        "        x_1 = self.pool(x_1) # (batch_size, nb_filters)\n",
        "        x_2 = self.trigram(x) # (batch_size, nb_filters, seq_len-2)\n",
        "        x_2 = self.pool(x_2) # (batch_size, nb_filters)\n",
        "        x_3 = self.fourgram(x) # (batch_size, nb_filters, seq_len-3)\n",
        "        x_3 = self.pool(x_3) # (batch_size, nb_filters)\n",
        "        \n",
        "        merged = tf.concat([x_1, x_2, x_3], axis=-1) # (batch_size, 3 * nb_filters)\n",
        "        merged = self.dense_1(merged)\n",
        "        merged = self.dropout(merged, training)\n",
        "        output = self.last_dense(merged)\n",
        "        \n",
        "        return output"
      ],
      "outputs": [],
      "execution_count": null,
      "metadata": {
        "id": "L6DD3k3qPLDQ"
      }
    },
    {
      "cell_type": "markdown",
      "source": [
        "# Stage 4: Training"
      ],
      "metadata": {
        "id": "vSix1l4jkIxp"
      }
    },
    {
      "cell_type": "code",
      "source": [
        "NB_FILTERS = 100\n",
        "FFN_UNITS = 256\n",
        "NB_CLASSES = 2\n",
        "\n",
        "DROPOUT_RATE = 0.2\n",
        "\n",
        "BATCH_SIZE = 32\n",
        "NB_EPOCHS = 5"
      ],
      "outputs": [],
      "execution_count": null,
      "metadata": {
        "id": "lhfUFvWEPOIf"
      }
    },
    {
      "cell_type": "code",
      "source": [
        "Dcnn = DCNNBERTEmbedding(nb_filters=NB_FILTERS,\n",
        "                         FFN_units=FFN_UNITS,\n",
        "                         nb_classes=NB_CLASSES,\n",
        "                         dropout_rate=DROPOUT_RATE)"
      ],
      "outputs": [],
      "execution_count": null,
      "metadata": {
        "id": "VMtdiWmwv6rD"
      }
    },
    {
      "cell_type": "code",
      "source": [
        "if NB_CLASSES == 2:\n",
        "    Dcnn.compile(loss=\"binary_crossentropy\",\n",
        "                 optimizer=\"adam\",\n",
        "                 metrics=[\"accuracy\"])\n",
        "else:\n",
        "    Dcnn.compile(loss=\"sparse_categorical_crossentropy\",\n",
        "                 optimizer=\"adam\",\n",
        "                 metrics=[\"sparse_categorical_accuracy\"])"
      ],
      "outputs": [],
      "execution_count": null,
      "metadata": {
        "id": "6apbd7FrwPYo"
      }
    },
    {
      "cell_type": "code",
      "source": [
        "checkpoint_path = \"./drive/MyDrive/projects/BERT/ckpt_bert_embedding/\"\n",
        "\n",
        "ckpt = tf.train.Checkpoint(Dcnn=Dcnn)\n",
        "\n",
        "ckpt_manager = tf.train.CheckpointManager(ckpt, checkpoint_path, max_to_keep=1)\n",
        "\n",
        "if ckpt_manager.latest_checkpoint:\n",
        "    ckpt.restore(ckpt_manager.latest_checkpoint)\n",
        "    print(\"Latest Checkpoint restored!\")"
      ],
      "outputs": [],
      "execution_count": null,
      "metadata": {
        "id": "78cceSGCw1XC"
      }
    },
    {
      "cell_type": "code",
      "source": [
        "class MyCustomCallback(tf.keras.callbacks.Callback):\n",
        "\n",
        "    def on_epoch_end(self, epoch, logs=None):\n",
        "        ckpt_manager.save()\n",
        "        print(\"Checkpoint saved at {}.\".format(checkpoint_path))"
      ],
      "outputs": [],
      "execution_count": null,
      "metadata": {
        "id": "2YIF5trzx7RA"
      }
    },
    {
      "cell_type": "code",
      "source": [
        "Dcnn.fit(train_dataset,\n",
        "         epochs=NB_EPOCHS,\n",
        "         callbacks=[MyCustomCallback()])"
      ],
      "outputs": [],
      "execution_count": null,
      "metadata": {
        "id": "WrT8oWZzQNmW"
      }
    },
    {
      "cell_type": "markdown",
      "source": [
        "# Stage 5: Evaluation"
      ],
      "metadata": {
        "id": "3IiDW919kQQK"
      }
    },
    {
      "cell_type": "code",
      "source": [
        "results = Dcnn.evaluate(test_dataset)\n",
        "print(results)"
      ],
      "outputs": [],
      "execution_count": null,
      "metadata": {
        "id": "MthhNfnG1TPV"
      }
    },
    {
      "cell_type": "code",
      "source": [
        "def get_prediction(sentence):\n",
        "    tokens = encode_sentence(sentence)\n",
        "\n",
        "    input_ids = get_ids(tokens)\n",
        "    input_mask = get_mask(tokens)\n",
        "    segment_ids = get_segments(tokens)\n",
        "\n",
        "    inputs = tf.stack(\n",
        "        [tf.cast(input_ids, dtype=tf.int32),\n",
        "         tf.cast(input_mask, dtype=tf.int32),\n",
        "         tf.cast(segment_ids, dtype=tf.int32)],\n",
        "         axis=0)\n",
        "    inputs = tf.expand_dims(inputs, 0)\n",
        "\n",
        "    output = Dcnn(inputs, training=False)\n",
        "\n",
        "    sentiment = math.floor(output*2)\n",
        "\n",
        "    if sentiment == 0:\n",
        "        print(\"Output of the model: {}\\nPredicted sentiment: negative.\".format(\n",
        "            output))\n",
        "    elif sentiment == 1:\n",
        "        print(\"Output of the model: {}\\nPredicted sentiment: positive.\".format(\n",
        "            output))"
      ],
      "outputs": [],
      "execution_count": null,
      "metadata": {
        "id": "Z-jrRvtl1xuk"
      }
    },
    {
      "cell_type": "code",
      "source": [
        "get_prediction(\"This movie was pretty interesting.\")"
      ],
      "outputs": [],
      "execution_count": null,
      "metadata": {
        "id": "kk8V2bdvwfCv"
      }
    },
    {
      "cell_type": "code",
      "source": [
        "get_prediction(\"I'd rather not do that again.\")"
      ],
      "outputs": [],
      "execution_count": null,
      "metadata": {
        "id": "ilgSppeGParJ"
      }
    }
  ],
  "metadata": {
    "colab": {
      "name": "Bert_embedding.ipynb",
      "provenance": [],
      "collapsed_sections": [],
      "machine_shape": "hm",
      "include_colab_link": true
    },
    "kernelspec": {
      "name": "python3",
      "language": "python",
      "display_name": "Python 3"
    },
    "accelerator": "GPU",
    "language_info": {
      "name": "python",
      "version": "3.6.9",
      "mimetype": "text/x-python",
      "codemirror_mode": {
        "name": "ipython",
        "version": 3
      },
      "pygments_lexer": "ipython3",
      "nbconvert_exporter": "python",
      "file_extension": ".py"
    },
    "kernel_info": {
      "name": "python3"
    },
    "nteract": {
      "version": "nteract-front-end@1.0.0"
    }
  },
  "nbformat": 4,
  "nbformat_minor": 0
}